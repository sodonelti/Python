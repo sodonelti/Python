{
 "cells": [
  {
   "cell_type": "markdown",
   "metadata": {
    "collapsed": true
   },
   "source": [
    "# Statements Assessment Test\n",
    "Let's test your knowledge!"
   ]
  },
  {
   "cell_type": "markdown",
   "metadata": {},
   "source": [
    "_____\n",
    "**Use <code>for</code>, .split(), and <code>if</code> to create a Statement that will print out words that start with 's':**"
   ]
  },
  {
   "cell_type": "code",
   "execution_count": 6,
   "metadata": {},
   "outputs": [],
   "source": [
    "st = 'Print only the words that start with s in this sentence'"
   ]
  },
  {
   "cell_type": "code",
   "execution_count": 21,
   "metadata": {},
   "outputs": [
    {
     "name": "stdout",
     "output_type": "stream",
     "text": [
      "start\n",
      "s\n",
      "sentence\n"
     ]
    }
   ],
   "source": [
    "#Code here\n",
    "for item in st.split():\n",
    "    if item.startswith('s'):\n",
    "        print(item)"
   ]
  },
  {
   "cell_type": "markdown",
   "metadata": {},
   "source": [
    "______\n",
    "**Use range() to print all the even numbers from 0 to 10.**"
   ]
  },
  {
   "cell_type": "code",
   "execution_count": 26,
   "metadata": {},
   "outputs": [
    {
     "name": "stdout",
     "output_type": "stream",
     "text": [
      "0\n",
      "2\n",
      "4\n",
      "6\n",
      "8\n",
      "10\n"
     ]
    }
   ],
   "source": [
    "#Code Here\n",
    "for x in range (0,11,2):\n",
    "    print(x)"
   ]
  },
  {
   "cell_type": "markdown",
   "metadata": {},
   "source": [
    "___\n",
    "**Use a List Comprehension to create a list of all numbers between 1 and 50 that are divisible by 3.**"
   ]
  },
  {
   "cell_type": "code",
   "execution_count": 30,
   "metadata": {},
   "outputs": [
    {
     "name": "stdout",
     "output_type": "stream",
     "text": [
      "[0, 3, 6, 9, 12, 15, 18, 21, 24, 27, 30, 33, 36, 39, 42, 45, 48]\n"
     ]
    }
   ],
   "source": [
    "#Code in this cell\n",
    "mylist=[x for x in range(0,51) if x%3==0]\n",
    "print(mylist)"
   ]
  },
  {
   "cell_type": "markdown",
   "metadata": {},
   "source": [
    "_____\n",
    "**Go through the string below and if the length of a word is even print \"even!\"**"
   ]
  },
  {
   "cell_type": "code",
   "execution_count": 39,
   "metadata": {},
   "outputs": [],
   "source": [
    "st = 'Print every word in this sentence that has an even number of letters'"
   ]
  },
  {
   "cell_type": "code",
   "execution_count": 54,
   "metadata": {},
   "outputs": [
    {
     "name": "stdout",
     "output_type": "stream",
     "text": [
      "word\n",
      "even\n",
      "in\n",
      "even\n",
      "this\n",
      "even\n",
      "sentence\n",
      "even\n",
      "that\n",
      "even\n",
      "an\n",
      "even\n",
      "even\n",
      "even\n",
      "number\n",
      "even\n",
      "of\n",
      "even\n"
     ]
    }
   ],
   "source": [
    "#Code in this cell\n",
    "index_count=0\n",
    "for item in st.split():\n",
    "        if len(item) %2 ==0:\n",
    "            print(item)\n",
    "            print(\"even\")\n"
   ]
  },
  {
   "cell_type": "markdown",
   "metadata": {},
   "source": [
    "____\n",
    "**Write a program that prints the integers from 1 to 100. But for multiples of three print \"Fizz\" instead of the number, and for the multiples of five print \"Buzz\". For numbers which are multiples of both three and five print \"FizzBuzz\".**"
   ]
  },
  {
   "cell_type": "code",
   "execution_count": 91,
   "metadata": {},
   "outputs": [
    {
     "name": "stdout",
     "output_type": "stream",
     "text": [
      "0\n",
      "fizzbuzz\n",
      "3\n",
      "buzz\n",
      "5\n",
      "Fizz\n",
      "6\n",
      "buzz\n",
      "9\n",
      "buzz\n",
      "10\n",
      "Fizz\n",
      "12\n",
      "buzz\n",
      "15\n",
      "fizzbuzz\n",
      "18\n",
      "buzz\n",
      "20\n",
      "Fizz\n",
      "21\n",
      "buzz\n",
      "24\n",
      "buzz\n",
      "25\n",
      "Fizz\n",
      "27\n",
      "buzz\n",
      "30\n",
      "fizzbuzz\n",
      "33\n",
      "buzz\n",
      "35\n",
      "Fizz\n",
      "36\n",
      "buzz\n",
      "39\n",
      "buzz\n",
      "40\n",
      "Fizz\n",
      "42\n",
      "buzz\n",
      "45\n",
      "fizzbuzz\n",
      "48\n",
      "buzz\n",
      "50\n",
      "Fizz\n",
      "51\n",
      "buzz\n",
      "54\n",
      "buzz\n",
      "55\n",
      "Fizz\n",
      "57\n",
      "buzz\n",
      "60\n",
      "fizzbuzz\n",
      "63\n",
      "buzz\n",
      "65\n",
      "Fizz\n",
      "66\n",
      "buzz\n",
      "69\n",
      "buzz\n",
      "70\n",
      "Fizz\n",
      "72\n",
      "buzz\n",
      "75\n",
      "fizzbuzz\n",
      "78\n",
      "buzz\n",
      "80\n",
      "Fizz\n",
      "81\n",
      "buzz\n",
      "84\n",
      "buzz\n",
      "85\n",
      "Fizz\n",
      "87\n",
      "buzz\n",
      "90\n",
      "fizzbuzz\n",
      "93\n",
      "buzz\n",
      "95\n",
      "Fizz\n",
      "96\n",
      "buzz\n",
      "99\n",
      "buzz\n",
      "100\n",
      "Fizz\n"
     ]
    }
   ],
   "source": [
    "#Code in this cell\n",
    "for x in range(0,101):\n",
    "               if x%3==0 and x%5==0:\n",
    "                    print(x)\n",
    "                    print(\"fizzbuzz\")\n",
    "               elif x%3==0: \n",
    "                    print(x)\n",
    "                    print(\"buzz\")\n",
    "               elif x%5==0:\n",
    "                    print(x)\n",
    "                    print(\"Fizz\")"
   ]
  },
  {
   "cell_type": "markdown",
   "metadata": {},
   "source": [
    "____\n",
    "**Use List Comprehension to create a list of the first letters of every word in the string below:**"
   ]
  },
  {
   "cell_type": "code",
   "execution_count": 84,
   "metadata": {},
   "outputs": [],
   "source": [
    "st = 'Create a list of the first letters of every word in this string'"
   ]
  },
  {
   "cell_type": "code",
   "execution_count": 93,
   "metadata": {},
   "outputs": [
    {
     "data": {
      "text/plain": [
       "['C', 'a', 'l', 'o', 't', 'f', 'l', 'o', 'e', 'w', 'i', 't', 's']"
      ]
     },
     "execution_count": 93,
     "metadata": {},
     "output_type": "execute_result"
    }
   ],
   "source": [
    "#Code in this cell\n",
    "[word[0] for word in st.split()]"
   ]
  },
  {
   "cell_type": "markdown",
   "metadata": {},
   "source": [
    "### Great Job!"
   ]
  }
 ],
 "metadata": {
  "kernelspec": {
   "display_name": "Python 3",
   "language": "python",
   "name": "python3"
  },
  "language_info": {
   "codemirror_mode": {
    "name": "ipython",
    "version": 3
   },
   "file_extension": ".py",
   "mimetype": "text/x-python",
   "name": "python",
   "nbconvert_exporter": "python",
   "pygments_lexer": "ipython3",
   "version": "3.7.3"
  }
 },
 "nbformat": 4,
 "nbformat_minor": 1
}
